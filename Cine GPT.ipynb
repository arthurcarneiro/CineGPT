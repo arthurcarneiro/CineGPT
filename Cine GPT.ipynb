{
 "cells": [
  {
   "cell_type": "markdown",
   "id": "bcd5755f-5344-4185-9afc-dc70b7f43b7d",
   "metadata": {},
   "source": [
    "## Cine GPT\n",
    "\n",
    "Pequeno assistente virtual (Cine GPT) para um indicador de filmes utilizando uma base como referência (RAG).\n",
    "\n",
    "Foi utilizada a base de filmes do IMDB top 1000, restrita a 50 filmes para economizar em tokens.\n",
    "\n",
    "Utilizando SentenceTransformers, convertemos o filme, genero e sinopse em embeddings.\n",
    "Utilizando FAISS encontramos filmes para uma pergunta do usuário.\n",
    "\n",
    "Utilizando um modelo de linguagem generativo pela API do hugging Face, o Zephyr 7b para as respostas.\n",
    "O modelo é leve e performa bem para tarefas simples. Além disso o prompt inicial\n",
    "é enriquecido com informações relevantes sobre os filmes que\n",
    "foram dados como resultados dos embeddings.\n",
    "\n",
    "Há um laço de interação contínua do usuário com a plataforma, por razão de limitação de memória o modelo não consegue dispor de uma \n",
    "memória sobre as consultas, mas é algo plenamente possível com essa arquitetura uma vez que se insira o contexto nos prompts seguintes.\n",
    "\n",
    "Ao utilizar o assistente, pergunte continuamente e quando quiser encerrar digite 'sair'.\n",
    "\n",
    "\n",
    "Bibliotecas utilizadas:\n",
    "- huggingface_hub\n",
    "- sentence-transformers\n",
    "- pandas\n",
    "- faiss-cpu"
   ]
  },
  {
   "cell_type": "code",
   "execution_count": 2,
   "id": "25aff137-9bbb-455d-b1ce-9a8d10419584",
   "metadata": {},
   "outputs": [
    {
     "name": "stdout",
     "output_type": "stream",
     "text": [
      "Bem vindo ao Cine GPT! Digite sua pergunta ou 'sair' para encerrar.\n"
     ]
    },
    {
     "name": "stdin",
     "output_type": "stream",
     "text": [
      "Você:  Me indique um bom filme de ação\n"
     ]
    },
    {
     "name": "stdout",
     "output_type": "stream",
     "text": [
      "Cine GPT: Para você, eu recomendo o filme \"Joker\" de 2019. Dirigido por Todd Phillips, com Joaquin Phoenix no papel principal, é um filme de drama, com elementos de comédia, terror e ação. Se você gosta de histórias complexas e personagens complexos, este filme é para você.\n",
      "\n",
      "Você: \n",
      "\n"
     ]
    },
    {
     "name": "stdin",
     "output_type": "stream",
     "text": [
      "Você:  Me dê informações sobre um bom filme de aventura\n"
     ]
    },
    {
     "name": "stdout",
     "output_type": "stream",
     "text": [
      "Cine GPT: Um filme de aventura de grande qualidade é \"Indiana Jones e o Templo da Perdição\" (2008), de Steven Spielberg e George Lucas. A aventura retorna ao personagem arqueólogo Indiana Jones (Harrison Ford) quando ele é recrutado pela Universidade de Yale para recuperar o Cálice da Santíssima Trindade, um antigo e místico artefato que pode ressuscitar um exército perdido da Cruzada. A ação se desenrola em locais exóticos, com um ritmo rápido e maravilhosos efeitos especiais. É um filme de ação, com humor e aventura, destinado a todos os públicos. \n",
      "\n"
     ]
    },
    {
     "name": "stdin",
     "output_type": "stream",
     "text": [
      "Você:  sair\n"
     ]
    },
    {
     "name": "stdout",
     "output_type": "stream",
     "text": [
      "Cine GPT: Obrigado por utilizar nossos serviços. Até mais!\n"
     ]
    }
   ],
   "source": [
    "#Bibliotecas utilizadas\n",
    "\n",
    "import pandas as pd\n",
    "import numpy as np\n",
    "import faiss\n",
    "from sentence_transformers import SentenceTransformer\n",
    "from huggingface_hub import InferenceClient\n",
    "\n",
    "TOKEN_HUGGING_FACE = 'seu-token'\n",
    "#Criação de base de dados\n",
    "df = pd.read_csv(\"IMDB top 1000.csv\") #Arquivo CSV com filmes indexados, dataset clássico de estudo. Apenas 50 filmes estão catalogados.\n",
    "df = df[['Title', 'Description', 'Genre']].dropna() #Restrição para colunas de interesse\n",
    "df['full_text'] = df['Title'] + \". \" + df['Genre'] + \". \" + df['Description'] #Criação da coluna full text para criar os embeddings.\n",
    "\n",
    "#Criação de embeddings\n",
    "embedder = SentenceTransformer(\"all-MiniLM-L6-v2\") #modelo gerador de embeddings\n",
    "embeddings = embedder.encode(df['full_text'].tolist()) #geração de embeddings.\n",
    "\n",
    "# Criação dos vetores de similaridade (FAISS)\n",
    "index = faiss.IndexFlatL2(embeddings.shape[1])\n",
    "index.add(np.array(embeddings))\n",
    "\n",
    "# Cliente Hugging Face Client Call\n",
    "client = InferenceClient(\n",
    "    model=\"HuggingFaceH4/zephyr-7b-beta\",  # mais leve que LLaMA e funcional grátis\n",
    "    token=\n",
    ")\n",
    "\n",
    "# A função buscar filmes utiliza uma busca diretamente no modelo de embeddings e o valor de k é a quantidade que o modelo deve indicar.\n",
    "# Convencionamos em 3, mas podem ser mais ou menos.\n",
    "def buscar_filmes(pergunta, k=3):\n",
    "    query_emb = embedder.encode([pergunta])\n",
    "    _, idx = index.search(np.array(query_emb), k)\n",
    "    return df.iloc[idx[0]]\n",
    "\n",
    "# Prompt inicial que pega uma parte dos resultados de filmes como contexto para detalhar no\n",
    "# prompt que ajuda o modelo a ser mais acurado em suas respostas.\n",
    "def montar_prompt(pergunta, filmes):\n",
    "    intro = (\n",
    "        \"Você é um assistente de um cinema. Responda em português do Brasil com base nos filmes abaixo, mesmo que contenha dados em outro idioma, traduza:\\n\\n\"\n",
    "    )\n",
    "    contexto = \"\\n\".join(\n",
    "        [f\"{row['Title']} ({row['Genre']}): {row['Description'][:200]}...\"\n",
    "         for _, row in filmes.iterrows()]\n",
    "    )\n",
    "    return f\"{intro}{contexto}\\n\\nVocê: {pergunta}\\nCine GPT:\"\n",
    "\n",
    "#Mensagem de boas vindas.\n",
    "print(\"Bem vindo ao Cine GPT! Digite sua pergunta ou 'sair' para encerrar.\")\n",
    "\n",
    "#Laço de repetição da conversa entre o usuário e o LLM\n",
    "# O fluxo é o seguinte: Pergunta do usuário -> Busca na base de filmes com embeddings -> ###\n",
    "# -> montagem de prompt para resposta -> análise de LLM -> resposta final para usuário. \n",
    "while True:\n",
    "    entrada = input(\"Você: \") #entrada de código\n",
    "    if entrada.lower() == \"sair\": #em caso de saída do modelo uma mensagem de despedida é feita e o código é encerrado. \n",
    "        print('Cine GPT: Obrigado por utilizar nossos serviços. Até mais!')\n",
    "        break\n",
    "\n",
    "    filmes = buscar_filmes(entrada) #análise da entrada na base de filmes\n",
    "    prompt = montar_prompt(entrada, filmes) # criação da resposta com base nos filmes destacados.\n",
    "\n",
    "    resposta = client.text_generation(\n",
    "        prompt=prompt,\n",
    "        max_new_tokens=300,\n",
    "        temperature=0.7,\n",
    "        do_sample=True,\n",
    "        stop=[\"Você:\", \"Cine GPT:\"]\n",
    "    ) #Resposta gerada, 300 tokens para ser uma resposta relativamente curta e com temperatura controlada para uma boa desenvoltura, \n",
    "    # mas sem alucinar.\n",
    "\n",
    "    print(\"Cine GPT:\", resposta.strip(), \"\\n\") #print da resposta e volta para o while True."
   ]
  }
 ],
 "metadata": {
  "kernelspec": {
   "display_name": "Python 3 (ipykernel)",
   "language": "python",
   "name": "python3"
  },
  "language_info": {
   "codemirror_mode": {
    "name": "ipython",
    "version": 3
   },
   "file_extension": ".py",
   "mimetype": "text/x-python",
   "name": "python",
   "nbconvert_exporter": "python",
   "pygments_lexer": "ipython3",
   "version": "3.9.18"
  }
 },
 "nbformat": 4,
 "nbformat_minor": 5
}
